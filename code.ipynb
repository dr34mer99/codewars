

# s="466960, 069060, 494940, 060069, 060090, 640009, 496464, 606900, 004000, 944096"
# def pos_average(s):
#     podzial=s.split(", ")
#     suma, caly = 0, 0
#     for i in range(len(podzial)-1):
#         for z in range(i+1, len(podzial)):
#             for x in range(len(podzial[i])):
#                 caly += 1
#                 if podzial[i][x] == podzial[z][x]:
#                     suma += 1
#     return suma / caly * 100, suma, caly, podzial[:-1], podzial[1:]

# def pos_average(s):
#     values = s.split(", ")
#     count, total = 0, 0
#     for i in range(len(values)-1):
#         for j in range(i+1,len(values)):
#             for k in range(len(values[i])):
#                 if values[i][k] == values[j][k]: count += 1
#                 total += 1
#     return count / total * 100

# print(pos_average(s))

#expected 26.6666666667



# def move_zeros(array):
#     for i in range(len(array)):
#         if array[i] == 0:
#             array.append(0)
#             array.pop(i)
#     return array
#
# # print(move_zeros([1, 2, 0, 1, 0, 1, 0, 3, 0, 1]))
# print(move_zeros([9, 0, 0, 9, 1, 2, 0, 1, 0, 1, 0, 3, 0, 1, 9, 0, 0, 0, 0, 9]))

#
# def christmas_tree(height):
#     s = ''
#     p=[u for u in range(1,height*2,2)]
#     for i,k in zip(range(height),p):
#         s += ('*'*k).center(height*2-1) + '\n'
#     return s[:-1]
# print(christmas_tree(6))


#f(16)=231

# def teol(n):
#     p, i = 0, 0
#     while i<n:
#         p+=p*(n-i)
#         i+=1
#     return p
#
# print(teol(5425))

#
# def range_of_u(range):
#     li = [1,1,2]
#     while len(li) <= range-1:
#         id1 = li[-1]
#         id2 = li[-2]
#         li.append(li[len(li)-id1]+li[len(li)-id2])
#     return li
#
# def length_sup_u_k(a, b):
#     if (type(a) or type(b)) != int:
#         return 0
#     elif (a or b) < 0:
#         return 0
#     lis , p = range_of_u(a), 1
#     for i in lis:
#         if i >= b:
#             p += 1
#     return p
#
# def comp(c):
#     if type(c) != int:
#         return 0
#     a, o = range_of_u(c), 0
#     for i in range(len(a)-1):
#         if a[i] > a[i+1]:
#             o += 1
#     return o
#
#
#
# def u(n):
#     if n == 1:
#         return [1]
#     if n == 2:
#         return [1, 1]
#     res = [1, 1]
#     for i in range(2, n):
#         index1 = i - res[i-1]
#         index2 = i - res[i-2]
#         res.append(res[index1] + res[index2])
#     return res
#
# print(u(12))
# print(range_of_u(12))
# print(range_of_u(134)==u(134))
# print(length_sup_u_k(45,12))
# print(type('2'))
#
#
# def to_underscore(string):
#     if string[0].isnumeric():
#         s = string[0]
#     else:
#         s = string[0].lower()
#     for i in range(1,len(string)):
#         if string[i].islower() or string[i].isnumeric():
#             s += string[i]
#         else:
#             s+= '_'
#             s+= string[i].lower()
#     return s
#
# print(to_underscore('6Test7Controller'))
#
# import random
# import time
#
#
# # def zeros(n):
# #     if n == 0: return 0
# #     def silnia(z):
# #         h = 1
# #         for i in range(1,z+1):
# #             h *= i
# #         return h
# #     sil = silnia(n)
# #     stri = str(sil)
# #     a = 0
# #     for i in stri[::-1]:
# #         if i == '0':
# #             a += 1
# #         else:
# #             break
# #     return a
# # import random
#
# # def pin():
# #     i = [random.randint() for x in range(10)]
# #     j = [x for x in random.randrange(10)]
# #     k = [x for x in random.randrange(10)]
# #     l = [x for x in random.randrange(10)]
# #     suma = 0
# #     for s,y,z,a in zip(i,j,k,l):
# #         suma += s*y*z*a
# #     return i,j,k,l
# #
# # print(len([random.randint(x,10) for x in range(10)]))
#
# #
# # def domain_name(str):
# #     if 'www.' in str:
# #         s = str.split('.')
# #         for i in range(len(s)):
# #             if s[i] == 'www':
# #                 return s[i+1]
# #     else:
# #         s = str.split('//')[1]
# #         return s.split('.')[0]
# #
# #
# # print(domain_name('https://google-udsada.pl'))
#
#
# # def alphabet_war(f):
# #     f = ' ' + f + ' '
# #     l = {'w': 4, 'p': 3, 'b': 2, 's': 1, 't': 0}
# #     r = {'m': 4, 'q': 3, 'd': 2, 'z': 1, 'j': 0}
# #     left, right = 0, 0
# #     li = list(l)
# #     ri = list(r)
# #     for i in range(len(f)):
# #         if f[i] == 't':
# #                 try:
# #                     f[i - 1].replace(f[i - 1], ri[li.index(f[i - 1])])
# #                     f[i + 1].replace(f[i + 1], ri[li.index(f[i + 1])])
# #                 except:
# #                     f[i + 1].replace(f[i + 1], ri[li.index(f[i + 1])])
# #                 finally:
# #                     f[i - 1].replace(f[i - 1], ri[li.index(f[i - 1])])
# #
# #         elif f[i] == 'j':
# #             try:
# #                 f[i - 1].replace(f[i - 1], li[ri.index(f[i - 1])])
# #                 f[i + 1].replace(f[i + 1], li[ri.index(f[i + 1])])
# #             except:
# #                 f[i + 1].replace(f[i + 1], li[ri.index(f[i + 1])])
# #             finally:
# #                 f[i - 1].replace(f[i - 1], li[ri.index(f[i - 1])])
# #
# #     for i in f:
# #         if i in l.keys():
# #             left += l[i]
# #         elif i in r.keys():
# #             right += r[i]
# #
# #     if left > right:
# #         return 'Left side wins!'
# #     elif left < right:
# #         return 'Right side wins!'
# #     else:
# #         return "Let's fight again!"
#
# #
# # f ='sdjadaft'
# #
# # print(alphabet_war(f))
#
#
# # car = {
# #   "brand": "Ford",
# #   "model": "Mustang",
# #   "year": 1964
# # }
# #
# # x = car.get("price")
# # print(x)
# #
# #
# #
# # def closest(s):
# #     strn = s.split()
# #     weight = [x for x in strn]
# #     w = []
# #     for i in weight:
# #         s = 0
# #         for j in i:
# #             s += int(j)
# #         w.append(s)
# #     p = {}
# #     for i in w:
# #         for j in w[1:]:
# #             if i != j:
# #                 p[str(i)+'-'+str(j)]=abs(i-j)
# #
# #     return w ,weight,min(p)
# #
# # print(closest(("103 123 4444 99 2000 ")))
#
#
# #binary
# # def decode_bits(bin_str):
# #     nums, tens = [int(x) for x in bin_str], 0
# #     for i,j in zip(range(len(nums)),range(len(nums),-1,-1)):
# #         tens += nums[i] * 2**(j-1)
# #         print(i,j)
# #     return int(tens)
# #
# # print(decode_bits('111'))
# #
# # def decode_bits(bin_str):
# #     nums, tens = [int(x) for x in bin_str], 0
# #     for i in range(len(nums)):
# #         if i % 2 != 0:
# #             tens += nums[i]
# #         else:
# #             tens -= nums[i]
# #     return tens
# #
# # print(decode_bits('11101010101110101010101'))
#
# #hexagon
# def hexa(num):
#     if  0 > num: num = 0
#     elif num >= 255: num = 255
#
#     a = hex(num).split('x')[1]
#     if len(a) >1:
#         return a.upper()
#     else:
#         return ('0' + a).upper()
#
# def rgb(r,g,b):
#      return hexa(r)+hexa(g)+hexa(b)
#
# print(rgb(254,254,254), hexa(-20))
#
#
# import numpy as np
# def matrix_mult(a, b):
#     c,d = np.array(a), np.array(b)
#     e = np.dot(c,d)
#     f = []
#     # for i in
#     return e
# print(matrix_mult([ [1, 2],
#     [3, 2] ], [ [3, 2],
#     [1, 1] ])[1,1]== matrix_mult([ [1, 2],
#     [3, 2] ], [ [3, 2],
#     [1, 1] ])[1][1])

# def sum_pairs(ints, s):
#     try:
#         for i in range(1, len(ints)):
#             if ints[i-1] + ints[i] == s:
#                 return [i, j]
#     finally:
#         for i in ints:
#             for j in ints[1:]:
#                 if i + j == s:
#                     return [i, j]
#
#     return None
#
# print(sum_pairs([10, 5, 2, 3, 7, 5],10))




# def valid_ISBN10(isbn):
#     s=0
#     if len(isbn) < 9:
#         return False
#     elif isbn[:-1].isdigit():
#         for i in range(1, len(isbn)):
#             s += int(isbn[i - 1]) * i
#         if isbn[-1] == 'X':
#             s += 10 * 10
#         elif isbn[-1].isdigit():
#             s += int(isbn[-1])*10
#     elif True:
#         for i in isbn[:-1]:
#             if i.isalpha():
#                 return False
#     if s % 11 == 0:
#         return True
#     else:
#         return False
#
# print(valid_ISBN10('1234554321'))
# def dirReduc(arr):
#     w = arr.count('WEST')
#     e = arr.count('EAST')
#     n = arr.count('NORTH')
#     S = arr.count('SOUTH')
#
#
#     nums = []
#     for i in range(len(arr)-1):
#         for j in range(len(arr)-1):
#             if (arr[i].upper() == 'NORTH' and arr[j].upper() == 'SOUTH') or (arr[i].upper() == 'SOUTH' and arr[j].upper() == 'NORTH') or (arr[i].upper() == 'WEST' and arr[j].upper() == 'EAST') or (arr[i].upper() == 'EAST' and arr[j].upper() == 'WEST'):
#                 nums.append(i)
#                 nums.append(j)
#     for i in reversed(list(set(nums))):
#         arr.pop(i)
#     return list(set(arr))
# print(dirReduc(["NORTH", "SOUTH", "SOUTH", "EAST", "WEST", "NORTH", "WEST"]))



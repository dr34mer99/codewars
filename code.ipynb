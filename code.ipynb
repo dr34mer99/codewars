

# s="466960, 069060, 494940, 060069, 060090, 640009, 496464, 606900, 004000, 944096"
# def pos_average(s):
#     podzial=s.split(", ")
#     suma, caly = 0, 0
#     for i in range(len(podzial)-1):
#         for z in range(i+1, len(podzial)):
#             for x in range(len(podzial[i])):
#                 caly += 1
#                 if podzial[i][x] == podzial[z][x]:
#                     suma += 1
#     return suma / caly * 100, suma, caly, podzial[:-1], podzial[1:]

# def pos_average(s):
#     values = s.split(", ")
#     count, total = 0, 0
#     for i in range(len(values)-1):
#         for j in range(i+1,len(values)):
#             for k in range(len(values[i])):
#                 if values[i][k] == values[j][k]: count += 1
#                 total += 1
#     return count / total * 100

# print(pos_average(s))

#expected 26.6666666667



# def move_zeros(array):
#     for i in range(len(array)):
#         if array[i] == 0:
#             array.append(0)
#             array.pop(i)
#     return array
#
# # print(move_zeros([1, 2, 0, 1, 0, 1, 0, 3, 0, 1]))
# print(move_zeros([9, 0, 0, 9, 1, 2, 0, 1, 0, 1, 0, 3, 0, 1, 9, 0, 0, 0, 0, 9]))

#
def christmas_tree(height):
    s = ''
    p=[u for u in range(1,height*2,2)]
    for i,k in zip(range(height),p):
        s += ('*'*k).center(height*2-1) + '\n'
    return s[:-1]

print(christmas_tree(6))
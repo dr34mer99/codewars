{
 "cells": [
  {
   "cell_type": "markdown",
   "metadata": {},
   "source": [
    "In this little assignment you are given a string of space separated numbers, and have to return the highest and lowest number.\n",
    "\n",
    "Example:\n",
    "\n",
    "high_and_low(\"1 2 3 4 5\")  # return \"5 1\"\n",
    "\n",
    "high_and_low(\"1 2 -3 4 5\") # return \"5 -3\"\n",
    "\n",
    "high_and_low(\"1 9 3 4 -5\") # return \"9 -5\"\n",
    "\n",
    "Notes:\n",
    "\n",
    "All numbers are valid Int32, no need to validate them.\n",
    "There will always be at least one number in the input string.\n",
    "Output string must be two numbers separated by a single space, and highest number is first."
   ]
  },
  {
   "cell_type": "code",
   "execution_count": 19,
   "metadata": {},
   "outputs": [
    {
     "name": "stdout",
     "output_type": "stream",
     "text": [
      "542 -214\n",
      "[4, 5, 29, 54, 4, 0, -214, 542, -64, 1, -3, 6, -6]\n"
     ]
    }
   ],
   "source": [
    "def high_and_low(numbers):\n",
    "    global num, h\n",
    "    num=numbers.split()\n",
    "    h=[]\n",
    "    for i in num:\n",
    "        h.append(int(i))\n",
    "    return str(max(h))+' '+str(min(h))\n",
    "print(high_and_low(\"4 5 29 54 4 0 -214 542 -64 1 -3 6 -6\"))\n",
    "print(h)"
   ]
  },
  {
   "cell_type": "markdown",
   "metadata": {},
   "source": [
    "Mając strukturę danych Sudoku z size NxN, N > 0 and √N == integer, napisz metodę, która sprawdzi, czy została poprawnie wypełniona.\n",
    "\n",
    "Struktura danych to wielowymiarowa tablica, czyli:\n",
    "\n",
    "[\n",
    "  [7,8,4,  1,5,9,  3,2,6],\n",
    "  [5,3,9,  6,7,2,  8,4,1],\n",
    "  [6,1,2,  4,3,8,  7,5,9],\n",
    "  \n",
    "  [9,2,8,  7,1,5,  4,6,3],\n",
    "  [3,5,7,  8,4,6,  1,9,2],\n",
    "  [4,6,1,  9,2,3,  5,8,7],\n",
    "  \n",
    "  [8,7,6,  3,9,4,  2,1,5],\n",
    "  [2,4,3,  5,6,1,  9,7,8],\n",
    "  [1,9,5,  2,8,7,  6,3,4]\n",
    "]\n",
    "Zasady walidacji\n",
    "\n",
    "Wymiar struktury danych: NxNgdzie N > 0i√N == integer\n",
    "Wiersze mogą zawierać tylko liczby całkowite: 1..N (N included)\n",
    "Kolumny mogą zawierać tylko liczby całkowite: 1..N (N included)\n",
    "„Małe kwadraty” ( 3x3w przykładzie powyżej) mogą również zawierać tylko liczby całkowite:1..N (N included)"
   ]
  },
  {
   "cell_type": "code",
   "execution_count": null,
   "metadata": {},
   "outputs": [],
   "source": []
  },
  {
   "cell_type": "markdown",
   "metadata": {},
   "source": [
    "If you've completed this kata already and want a bigger challenge, here's the 3D version\n",
    "\n",
    "Bob is bored during his physics lessons so he's built himself a toy box to help pass the time. The box is special because it has the ability to change gravity.\n",
    "\n",
    "There are some columns of toy cubes in the box arranged in a line. The i-th column contains a_i cubes. At first, the gravity in the box is pulling the cubes downwards. When Bob switches the gravity, it begins to pull all the cubes to a certain side of the box, d, which can be either 'L' or 'R' (left or right). Below is an example of what a box of cubes might look like before and after switching gravity.\n",
    "\n",
    "+---+                                       +---+\n",
    "|   |                                       |   |\n",
    "+---+                                       +---+\n",
    "+---++---+     +---+              +---++---++---+\n",
    "|   ||   |     |   |   -->        |   ||   ||   |\n",
    "+---++---+     +---+              +---++---++---+\n",
    "+---++---++---++---+         +---++---++---++---+\n",
    "|   ||   ||   ||   |         |   ||   ||   ||   |\n",
    "+---++---++---++---+         +---++---++---++---+\n",
    "Given the initial configuration of the cubes in the box, find out how many cubes are in each of the n columns after Bob switches the gravity."
   ]
  },
  {
   "cell_type": "code",
   "execution_count": 23,
   "metadata": {},
   "outputs": [
    {
     "name": "stdout",
     "output_type": "stream",
     "text": [
      "[1, 2, 2, 3]\n"
     ]
    }
   ],
   "source": [
    "def flip(d,a):\n",
    "    return sorted(a, reverse=d=='L')\n",
    "print(flip('R', [3, 2, 1, 2]))"
   ]
  },
  {
   "cell_type": "code",
   "execution_count": 26,
   "metadata": {},
   "outputs": [
    {
     "name": "stdout",
     "output_type": "stream",
     "text": [
      "[' Sn', ' O', ' Ca', ' Mn', ' H', ' Be', ' Li', ' Cs', ' Ga', ' B', ' N', ' S', ' Ag', ' Cu', ' F', ' Ge', ' Br', ' Ar', ' Fe', ' P', ' C', ' He', ' Ne', ' Cr', ' Na', ' Mg', ' Rb', ' Ti', ' K', ' Au', ' Cd', ' As', ' Se', ' Xe', ' Nb', ' Sc', ' Ra', ' Po', ' Kr', ' V', ' Y', ' Sb', ' Bi', ' Pb', ' Rn', ' Pd', ' Rh', ' In', ' Zr', ' Sr', ' Ru', ' Te', ' Mo', ' Tl']\n"
     ]
    }
   ],
   "source": [
    "data=''' Cyna\n",
    " Sn\n",
    " Tlen\n",
    " O\n",
    " Wapń\n",
    " Ca\n",
    " Mangan\n",
    " Mn\n",
    " Wodór\n",
    " H\n",
    " Beryl\n",
    " Be\n",
    " Lit\n",
    " Li\n",
    " Cez\n",
    " Cs\n",
    " Gal\n",
    " Ga\n",
    " Bor\n",
    " B\n",
    " Azot\n",
    " N\n",
    " Siarka\n",
    " S\n",
    " Srebro\n",
    " Ag\n",
    " Miedź\n",
    " Cu\n",
    " Fluor\n",
    " F\n",
    " German\n",
    " Ge\n",
    " Brom\n",
    " Br\n",
    " Argon\n",
    " Ar\n",
    " Żelazo\n",
    " Fe\n",
    " Fosfor\n",
    " P\n",
    " Węgiel\n",
    " C\n",
    " Hel\n",
    " He\n",
    " Neon\n",
    " Ne\n",
    " Chrom\n",
    " Cr\n",
    " Sód\n",
    " Na\n",
    " Magnez\n",
    " Mg\n",
    " Rubid\n",
    " Rb\n",
    " Tytan\n",
    " Ti\n",
    " Potas\n",
    " K\n",
    " Złoto\n",
    " Au\n",
    " Kadm\n",
    " Cd\n",
    " Arsen\n",
    " As\n",
    " Selen\n",
    " Se\n",
    " Ksenon\n",
    " Xe\n",
    " Niob\n",
    " Nb\n",
    " Scand\n",
    " Sc\n",
    " Rad\n",
    " Ra\n",
    " Polon\n",
    " Po\n",
    " Krypton\n",
    " Kr\n",
    " Wanad\n",
    " V\n",
    " Itr\n",
    " Y\n",
    " Antymon\n",
    " Sb\n",
    " Bizmut\n",
    " Bi\n",
    " Ołów\n",
    " Pb\n",
    " Radon\n",
    " Rn\n",
    " Pallad\n",
    " Pd\n",
    " Rod\n",
    " Rh\n",
    " Ind\n",
    " In\n",
    " Cyrkon\n",
    " Zr\n",
    " Strond\n",
    " Sr\n",
    " Ruten\n",
    " Ru\n",
    " Tellur\n",
    " Te\n",
    " Molibden\n",
    " Mo\n",
    " Tal\n",
    " Tl'''.split('\\n')\n",
    "data2=data[1::2]\n",
    "print(data2)"
   ]
  },
  {
   "cell_type": "code",
   "execution_count": null,
   "metadata": {},
   "outputs": [],
   "source": []
  }
 ],
 "metadata": {
  "celltoolbar": "Edit Metadata",
  "kernelspec": {
   "display_name": "Python 3",
   "language": "python",
   "name": "python3"
  },
  "language_info": {
   "codemirror_mode": {
    "name": "ipython",
    "version": 3
   },
   "file_extension": ".py",
   "mimetype": "text/x-python",
   "name": "python",
   "nbconvert_exporter": "python",
   "pygments_lexer": "ipython3",
   "version": "3.8.3"
  }
 },
 "nbformat": 4,
 "nbformat_minor": 4
}
